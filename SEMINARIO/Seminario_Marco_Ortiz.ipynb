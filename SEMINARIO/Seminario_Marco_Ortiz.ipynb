{
  "nbformat": 4,
  "nbformat_minor": 0,
  "metadata": {
    "colab": {
      "name": "Seminario_Marco_Ortiz.ipynb",
      "version": "0.3.2",
      "provenance": [],
      "collapsed_sections": [
        "rpbXr8MnNKds"
      ],
      "include_colab_link": true
    },
    "kernelspec": {
      "name": "python3",
      "display_name": "Python 3"
    }
  },
  "cells": [
    {
      "cell_type": "markdown",
      "metadata": {
        "id": "view-in-github",
        "colab_type": "text"
      },
      "source": [
        "<a href=\"https://colab.research.google.com/github/mark-ortiz/03MAIR-Algoritmos-de-Optimizacion-2019/blob/master/SEMINARIO/Seminario_Marco_Ortiz.ipynb\" target=\"_parent\"><img src=\"https://colab.research.google.com/assets/colab-badge.svg\" alt=\"Open In Colab\"/></a>"
      ]
    },
    {
      "metadata": {
        "id": "tozKVSod_8Y3",
        "colab_type": "text"
      },
      "cell_type": "markdown",
      "source": [
        "#SEMINARIO\n",
        "##Marco Antonio Ortiz Meneses\n",
        "Escogí el problema 3 \"Combinar cifras y operaciones\"<br>\n",
        "Este problema trata acerca de encontrar una combinación de cifras y operaciones para obtener un numero dado.<br>\n",
        "Por supuesto, se siguen las reglas de precedencia de operadores.\n",
        "\n",
        "---\n",
        "\n"
      ]
    },
    {
      "metadata": {
        "id": "4poFTKEE_iNw",
        "colab_type": "text"
      },
      "cell_type": "markdown",
      "source": [
        "### Preguntas Planteadas por el profesor\n",
        "\n",
        "**1.** ¿Cuantas posiblidades hay sin tener en cuenta las restricciones?<br>\n",
        "De acuerdo a lo visto en el análisis más abajo, las posibilidades de combinación, son del orden de factorial, no necesariamente n, pero al final es de tipo factorial,  ya que se cuenta con 9 elementos (las cifras), así como también se cuenta con 4 operadores (suma, resta, multiplicación y división), las cuales pueden ser colocadas en diferentes posiciones pseudo aleatoriamente, para las operaciones y finalmente generar el resultado deseado.<br><br>\n",
        "**2.** ¿Cúal es la estructura de datos que mejor se adapta al problema?<br>\n",
        "No hay muchas opciones, tal y como se comento en clase, son 9 cifras y signos alternados (aunque hay que tomar en cuenta la precedencia de operadores, lo cual limita el universo de resultados).<br><br>\n",
        "**3.** ¿Cuál es la función objetivo?<br>\n",
        "El objetivo es dado un resultado deseado encontrarlo a partir de la siguiente operación:<br>\n",
        "> a+b-c/d*e = resultado_deseado <br>\n",
        "\n",
        "**4.** ¿Es un problema de maximización o minimización?<br>\n",
        "El problema no es de estos tipos, más bien es un problema que intenta encontrar al menos una solución.<br>\n",
        "Yo pienso que la mejor estructura puede ser una combinación de vuelta atrá es una combin de tipo árbol y heurística, que aunque como tal no existe una forma mátematica clara, podemos usar alguna metaheurística para tratar de encontrar al menos una solución al problema aunque esta no necesariamente sea optima.<br><br>\n",
        "**5.** Diseña un algoritmo que mejore la complejidad del algoritmo por fuerza bruta.<br>\n",
        "Como tal, esto lo trato más adelante en las subsecuentes celdas.<br><br>\n",
        "**6.** Calcula la complejidad del algoritmo<br>\n",
        "La complejidad del algoritmos me parece que al inicio y sin ningún tratamiento, es O(n!) o tal vez de tipo exponencial, en cualquier caso, me parece que después del análisis, se podría convertir en uno de tipo polinómico acercandose al factorial, pero no menor, con lo cual me parece que en si mismo es un problema que puede resultar bastante complejo."
      ]
    },
    {
      "metadata": {
        "id": "rpbXr8MnNKds",
        "colab_type": "text"
      },
      "cell_type": "markdown",
      "source": [
        "##ANALISIS DEL PROBLEMA\n",
        "Primero que nada hay que entender el tipo de problema que queremos resolver y a continuación algunas reflexiones acerca del mismo."
      ]
    },
    {
      "metadata": {
        "id": "wurVfAeyB7rw",
        "colab_type": "code",
        "outputId": "74343b26-bc48-4b15-d804-fabfb3275a53",
        "colab": {
          "base_uri": "https://localhost:8080/"
        }
      },
      "cell_type": "code",
      "source": [
        "exp = \"7+4 - 2/1*3\"\n",
        "eval(exp)\n",
        "\n",
        "#De la expresión planteada y su evaluación, tenemos que:\n",
        "#A priori se observa que el resultado de la division y la multiplicación siempre afecta mucho más al resultado final\n",
        "#Analizando la precedencia de operadores, siempre se ejecutará primero la división y después la multiplicación\n",
        "#Para finalmente ejecutar la suma y después la resta, por lo que hay que tomar mucho esto en cuenta"
      ],
      "execution_count": 0,
      "outputs": [
        {
          "output_type": "execute_result",
          "data": {
            "text/plain": [
              "5.0"
            ]
          },
          "metadata": {
            "tags": []
          },
          "execution_count": 1
        }
      ]
    },
    {
      "metadata": {
        "id": "DPb62eLZC4Pm",
        "colab_type": "code",
        "outputId": "98dce6c8-f064-4199-9b3e-591b2637b3f8",
        "colab": {
          "base_uri": "https://localhost:8080/"
        }
      },
      "cell_type": "code",
      "source": [
        "# Otro ejemplo.... digamos que queremos obtener 7 como resultado\n",
        "\n",
        "exp=\"9+6-4/1*2\"\n",
        "eval(exp)\n",
        "\n",
        "#Después de variar algunos numeros (como 5 veces), obtuve el resultado"
      ],
      "execution_count": 0,
      "outputs": [
        {
          "output_type": "execute_result",
          "data": {
            "text/plain": [
              "7.0"
            ]
          },
          "metadata": {
            "tags": []
          },
          "execution_count": 2
        }
      ]
    },
    {
      "metadata": {
        "id": "CAlEoyn0DX2V",
        "colab_type": "code",
        "outputId": "05da5f95-6efe-4c82-c348-45b593696380",
        "colab": {
          "base_uri": "https://localhost:8080/"
        }
      },
      "cell_type": "code",
      "source": [
        "#Otro ej. más ... digamos 9\n",
        "\n",
        "exp=\"9+8-4/1*2\"\n",
        "eval(exp)\n",
        "\n",
        "#De esta experiencia empírica, al parecer para cuando los número que queremos son \"grandes\", la suma debe ser mayor que la división y multiplicacion\n",
        "#es decir, los numeros para la suma deben ser mas o menos del doble de grandes que de division y multiplicacion\n",
        "#Otra situación que observo es que para la división, es mejor que el numerador sea multiplo del denominador, si no no dara exacto"
      ],
      "execution_count": 0,
      "outputs": [
        {
          "output_type": "execute_result",
          "data": {
            "text/plain": [
              "9.0"
            ]
          },
          "metadata": {
            "tags": []
          },
          "execution_count": 3
        }
      ]
    },
    {
      "metadata": {
        "id": "JpkgFtsuD_3m",
        "colab_type": "code",
        "outputId": "119df24b-22db-48cd-8cc9-15efaacff8d3",
        "colab": {
          "base_uri": "https://localhost:8080/"
        }
      },
      "cell_type": "code",
      "source": [
        "#Otro ej. de numero grande 8\n",
        "\n",
        "exp=\"8+6-4/2*3\"\n",
        "eval(exp)\n",
        "\n",
        "#Por ejemplo, siguiendo la regla descubierta anteriormente, encontre en 2 pasos el resultado para este ejemplo propuesto"
      ],
      "execution_count": 0,
      "outputs": [
        {
          "output_type": "execute_result",
          "data": {
            "text/plain": [
              "8.0"
            ]
          },
          "metadata": {
            "tags": []
          },
          "execution_count": 4
        }
      ]
    },
    {
      "metadata": {
        "id": "i8-gvuKcQVUU",
        "colab_type": "code",
        "outputId": "7c211aee-dee6-47b4-f55b-dde6b311500e",
        "colab": {
          "base_uri": "https://localhost:8080/"
        }
      },
      "cell_type": "code",
      "source": [
        "#Que pasa si el numero a obtener es \"bajo\" como 3 por ej.\n",
        "exp=\"8+9 - 6/3 *7 \"\n",
        "eval(exp)\n",
        "\n",
        "#Si esto es asi, entonces los numeros para la multiplicacion deberan aumentar y ser mayores\n",
        "#Aun asi se cumple que los numeros para la suma deben ser \"grandes\""
      ],
      "execution_count": 0,
      "outputs": [
        {
          "output_type": "execute_result",
          "data": {
            "text/plain": [
              "3.0"
            ]
          },
          "metadata": {
            "tags": []
          },
          "execution_count": 5
        }
      ]
    },
    {
      "metadata": {
        "id": "FxW9uBn-k0mv",
        "colab_type": "text"
      },
      "cell_type": "markdown",
      "source": [
        "De lo anterior, se desprende que para reducir el resultado de la expresion, se debe reducir el valor de la suma y/o reducir la cifra de la multiplicación, para aumentar el valor de la expresión, se deberá hacer lo contrario."
      ]
    },
    {
      "metadata": {
        "id": "rSc-eAP9-kmC",
        "colab_type": "text"
      },
      "cell_type": "markdown",
      "source": [
        "##Fin del Análisis Inicial y comienzo del desarrollo del programa en Python\n",
        "\n",
        "Al analizar el problema, se ve que no es algo simple, y se tiene que utilizar algo de heurística o al menos así me lo parece a mí."
      ]
    },
    {
      "metadata": {
        "id": "gJkwKQpuFuW5",
        "colab_type": "code",
        "outputId": "13035d77-81e3-48d1-aedb-d99fddb056fe",
        "colab": {
          "base_uri": "https://localhost:8080/",
          "height": 50
        }
      },
      "cell_type": "code",
      "source": [
        "#Parte de lo que hay que hacer es generar numeros aleatorios y diferentes entre sí\n",
        "#para ello se puede utilizar funciones como se muestra a continuación\n",
        "\n",
        "#Para tratar de resolver el problema usare heurística de pensamiento ya que\n",
        "#no se me ocurre otra forma y tratare de desmenusar el problema en partes poniendo\n",
        "#comentarios conforme voy desarrollando el codigo y el porque del mismo, adicionalmente\n",
        "#el criterio de parada de las iteraciones sera cuando se obtenga una solucion, aunque\n",
        "#no necesariamente sea la optima\n",
        "\n",
        "#Utilizaré las siguientes librerias para la generación de los numeros aleatorios\n",
        "import itertools\n",
        "import random as rnd\n",
        "\n",
        "#Funcion para generar numeros aleatorios\n",
        "def genera_aleatorios(low, high):\n",
        "    while True:\n",
        "        yield rnd.randint(low, high)\n",
        "#Objetos generadores que usaré tomando en cuenta \"bajos\" y \"altos\"\n",
        "gen1 = genera_aleatorios(6,9) \n",
        "gen2 = genera_aleatorios(1,5) \n",
        "#Se usan sets para no repetir valores\n",
        "altos = set()\n",
        "bajos = set()\n",
        "#Se añaden elementos al set hasta que llegue a 2 y 3 numeros respectivamente\n",
        "for x in itertools.takewhile(lambda x: len(altos) < 2, gen1): \n",
        "    altos.add(x)\n",
        "for x in itertools.takewhile(lambda x: len(bajos) < 3, gen2):\n",
        "    bajos.add(x)\n",
        "print(\"Los numeros bajos para las operaciones division y mult son:\", bajos)\n",
        "print(\"Los numeros altos para las operaciones suma y resta son:\", altos)\n",
        "\n",
        "### REFERENCIAS\n",
        "# https://stackoverflow.com/questions/22842289/generate-n-unique-random-numbers-within-a-range\n",
        "# https://stackoverflow.com/questions/17457793/sorting-a-set-of-values/17458090"
      ],
      "execution_count": 2,
      "outputs": [
        {
          "output_type": "stream",
          "text": [
            "Los numeros bajos para las operaciones division y mult son: {3, 4, 5}\n",
            "Los numeros altos para las operaciones suma y resta son: {6, 7}\n"
          ],
          "name": "stdout"
        }
      ]
    },
    {
      "metadata": {
        "id": "P26w6fKiETiM",
        "colab_type": "code",
        "colab": {}
      },
      "cell_type": "code",
      "source": [
        "#Funciones para generar numeros \"altos\" y \"bajos\"\n",
        "def genera_altos():\n",
        "  gen1 = genera_aleatorios(6,9)\n",
        "  altos = set()\n",
        "  for x in itertools.takewhile(lambda x: len(altos) < 2, gen1):\n",
        "    altos.add(x)\n",
        "  return(altos)\n",
        "\n",
        "def genera_bajos():\n",
        "  gen2 = genera_aleatorios(1,5)\n",
        "  bajos = set()\n",
        "  for x in itertools.takewhile(lambda x: len(bajos) < 3, gen2):\n",
        "    bajos.add(x)\n",
        "  return(bajos)\n",
        "\n",
        "#Funcion para evaluar la expresión e imprimirla \"bonita\"\n",
        "def evaluaexp(nums):\n",
        "  a=nums[0];b=nums[1];c=nums[2];d=nums[3];e=nums[4]\n",
        "  exp=str(a+b-c/d*e)\n",
        "  print(\"La expresion queda como sigue:\")\n",
        "  print(a,\"+\",b,\"-\",c,\"/\",d,\"*\",e)\n",
        "  evaluacion=eval(exp)\n",
        "  return(evaluacion)\n",
        "\n",
        "#Funcion solo para otorgar el resultado de la expresion\n",
        "def evalexpcorto(nums):\n",
        "  a=nums[0];b=nums[1];c=nums[2];d=nums[3];e=nums[4]\n",
        "  exp=str(a+b-c/d*e)\n",
        "  return(eval(exp))"
      ],
      "execution_count": 0,
      "outputs": []
    },
    {
      "metadata": {
        "id": "k0EV1_3CRO7A",
        "colab_type": "code",
        "outputId": "5791a84c-de74-43af-d2fb-e6ae157e67c2",
        "colab": {
          "base_uri": "https://localhost:8080/",
          "height": 101
        }
      },
      "cell_type": "code",
      "source": [
        "#Una vez tenemos los numeros altos y bajos aleatorios, debemos acomodarlos al \"azar\" en las operaciones correspondientes\n",
        "#Tambien hay que asegurarse de que en la división estos den un numero entero, si no hay que generar otros numeros\n",
        "\n",
        "#Convertimos a listas para mayor facilidad de tratamiento\n",
        "n1=list(altos);n2=list(bajos)\n",
        "print(\"Altos:\",n1, \" Bajos:\", n2,\"\\n\")\n",
        "\n",
        "#Voy a definir los numeros de la expresion de izq. a derecha como a,b,c,d,e y para la suma son:\n",
        "a=n1[0]\n",
        "b=n1[1]\n",
        "\n",
        "#Funcion para generar los digitos a y b (los de la suma)\n",
        "def genera_ab():\n",
        "  return(genera_altos())\n",
        "\n",
        "#De los \"bajos\", debemos buscar que sean multiplos/submultiplos, y divisibles mayores que uno al menos dos de ellos\n",
        "#Es decir al escoger dos valores, no debe sobrar nada al hacer la division y tampoco debe ser menor a 1\n",
        "\n",
        "def genera_cde(n2):\n",
        "  if n2[2]%n2[0]==0:        #Si no sobra nada y ya que el mayor siempre esta al final\n",
        "    c=n2[2];d=n2[0];e=n2[1] #Asignamos los valores para la primer iteracion y regresamos los valores\n",
        "    return(c,d,e)\n",
        "  elif n2[2]%n2[1]==0:      #Si sobra entonces probamos con el numero restante\n",
        "    c=n2[2];d=n2[1];e=n2[0] #Asignamos y regresamos los valores\n",
        "    return(c,d,e)\n",
        "  elif n2[1]%n2[0]==0:      #Aqui probamos el caso que el de \"enmedio\" si sea divisible y sin modulo\n",
        "    c=n2[1];d=n2[0];e=n2[2]\n",
        "    return(c,d,e)\n",
        "  else:\n",
        "    #print(\"Hay que escoger otro set de numeros porque no da exacto en la division\")\n",
        "    otros_bajos=list(genera_bajos())   #Generamos otros numeros bajos\n",
        "    #print(\"Los otros bajos generados son:\", otros_bajos,\"\\n\")\n",
        "    return(genera_cde(otros_bajos)) #Aqui se vuelve recursiva la función\"\"\"\n",
        "\n",
        "#A modo de prueba, mandamos a llamar la funcion para escoger los valores c,d y e para la división y multiplicación\n",
        "\n",
        "c,d,e = genera_cde(n2)\n",
        "\n",
        "#Finalmente llamamos la funcion para evaluar la expresion\n",
        "evaluaexp([a,b,c,d,e])"
      ],
      "execution_count": 4,
      "outputs": [
        {
          "output_type": "stream",
          "text": [
            "Altos: [6, 7]  Bajos: [3, 4, 5] \n",
            "\n",
            "La expresion queda como sigue:\n",
            "6 + 7 - 3 / 1 * 2\n"
          ],
          "name": "stdout"
        },
        {
          "output_type": "execute_result",
          "data": {
            "text/plain": [
              "7.0"
            ]
          },
          "metadata": {
            "tags": []
          },
          "execution_count": 4
        }
      ]
    },
    {
      "metadata": {
        "id": "qljhvjy2_xoL",
        "colab_type": "text"
      },
      "cell_type": "markdown",
      "source": [
        "## Comienzo del proceso de solución iterativo\n",
        "*El codigo de arriba se utilizará, pero a continuación haremos uso de las funciones **genera_ab** y **genera_cde** para generar la totalidad de los 5 números para la expresión que estaremos utilizando.*\n",
        "Hasta el momento el proceso heurístico ha consistido en estudiar y entender el problema y proponer funciones que ayudan a \"resolver\" una parte del problema, ahora hay que establecer el criterio de parada y como \"generarlo\".\n"
      ]
    },
    {
      "metadata": {
        "id": "C05TG_lgqruZ",
        "colab_type": "code",
        "outputId": "557c6965-a621-48ec-cac3-38e35960ef20",
        "colab": {
          "base_uri": "https://localhost:8080/",
          "height": 67
        }
      },
      "cell_type": "code",
      "source": [
        "#Ya que definimos como obtener los numeros aleatorios para a,b,c,d,e, y ya\n",
        "#que tenemos algunas funciones, para obtener los nums aleatorios; y\n",
        "#tambien tenemos funciones (incluso recursivas algunas), para evaluar\n",
        "#la expresion.\n",
        "#\n",
        "#Ahora generaremos un ejemplo desde 0 para ir tratando de buscar un\n",
        "#algoritmo que nos permita hacer que se encuentre el resultado deseado \n",
        "#empezando a intercambiar valores con cifras que no esten \n",
        "#en los originales.\n",
        "\n",
        "rnd.seed(0) #Esto lo puse para que no esten cambiando los numeros\n",
        "\n",
        "#Si el resultado propuesto fuera el siguiente:\n",
        "resdeseado=5\n",
        "\n",
        "a,b = genera_ab()\n",
        "c,d,e = genera_cde(n2)\n",
        "\n",
        "evaluaexp([a,b,c,d,e])"
      ],
      "execution_count": 11,
      "outputs": [
        {
          "output_type": "stream",
          "text": [
            "La expresion queda como sigue:\n",
            "9 + 6 - 3 / 1 * 2\n"
          ],
          "name": "stdout"
        },
        {
          "output_type": "execute_result",
          "data": {
            "text/plain": [
              "9.0"
            ]
          },
          "metadata": {
            "tags": []
          },
          "execution_count": 11
        }
      ]
    },
    {
      "metadata": {
        "id": "L6muL7o3v8yC",
        "colab_type": "code",
        "outputId": "87ce4fac-1e26-4619-ea1c-6606ba4d86a0",
        "colab": {
          "base_uri": "https://localhost:8080/",
          "height": 101
        }
      },
      "cell_type": "code",
      "source": [
        "#Utilizaremos las funciones de numpy para buscar dentro de un \"vector\"\n",
        "#cifra ya existente y de esta manera no repetir cifras\n",
        "import numpy as np  \n",
        "\n",
        "#Si el numero que encontramos es mayor al resultado que queremos, debemos\n",
        "#disminuir la suma intercambiando algun numero de los sumandos y podemos\n",
        "#probar con los numeros que todavia no han sido utilizados\n",
        "\n",
        "evaluacion=evaluaexp([a,b,c,d,e])\n",
        "\n",
        "print(\"El resultado que queremos es:     \", resdeseado)\n",
        "print(\"La evaluacion de la expresion es: \",evaluacion)\n",
        "\n",
        "\n",
        "### ESTA EVALUACIN ES DE SUMA IMPORTANCIA PARA EL ALGORITMO YA QUE\n",
        "### PERMITIRA ESTABLECER UN CRITERIO PARA AUMENTAR O DISMINUIR\n",
        "### ALGO MUY SIMILAR AL RAZONAMIENTO HUMANO (HEURÍSTICA)\n",
        "if evaluacion<resdeseado:\n",
        "  print(\"Nos falta para llegar al resultado\")\n",
        "elif evaluacion>resdeseado:\n",
        "  diff = evaluacion-resdeseado\n",
        "  print(\"Nos pasamos del resultado por\",diff)"
      ],
      "execution_count": 12,
      "outputs": [
        {
          "output_type": "stream",
          "text": [
            "La expresion queda como sigue:\n",
            "9 + 6 - 3 / 1 * 2\n",
            "El resultado que queremos es:      5\n",
            "La evaluacion de la expresion es:  9.0\n",
            "Nos pasamos del resultado por 4.0\n"
          ],
          "name": "stdout"
        }
      ]
    },
    {
      "metadata": {
        "id": "e6iR0prHHRxO",
        "colab_type": "code",
        "colab": {}
      },
      "cell_type": "code",
      "source": [
        "### NECESITAMOS DEFINIR ALGUNAS FUNCIONES EXTRA:\n",
        "### LA PRIMERA ES SABER SI ESTAMOS ARRIBA O ABAJO DEL RESULTADO DESEADO\n",
        "\n",
        "#Debemos saber si estamos arriba o abajo del resultado deseado para esto:\n",
        "#Esta es la funcion que nos servira para comparar\n",
        "\n",
        "#Funcion para saber si llegamos al resultado o estamos arriba o debajo\n",
        "def revisa(resdeseado, nums):\n",
        "  eval=evalexpcorto(nums)\n",
        "  if eval > resdeseado:\n",
        "    #print(\"Estamos arriba del valor deseado\")\n",
        "    return(1) #Regresa 1 si nos pasamos del valor (estamos arriba)\n",
        "  if eval < resdeseado:\n",
        "    #print(\"Estamos abajo del valor deseado\")\n",
        "    return(-1)  #Regresa -1 si nos falto (estamos abajo)\n",
        "  if eval==resdeseado:\n",
        "    #Eureka, se encontro el resultado deseado\n",
        "    return(0) #Regresa 0 si se encontro el resultado deseado"
      ],
      "execution_count": 0,
      "outputs": []
    },
    {
      "metadata": {
        "id": "wCZb7yK336QJ",
        "colab_type": "code",
        "outputId": "3e1924f2-315b-45c5-ca4f-87de000358b7",
        "colab": {
          "base_uri": "https://localhost:8080/",
          "height": 67
        }
      },
      "cell_type": "code",
      "source": [
        "#Si nos pasamos entonces trataremos de disminuir la suma con algun otro\n",
        "#numero que no hayamos usado y menor a los que tenemos ya en la suma\n",
        "\n",
        "#Por si tenemos que recordar los valores originales de los numeros\n",
        "aori=a;bori=b;cori=c;dori=d;eori=e\n",
        "numsori=[aori,bori,cori,dori,eori]\n",
        "\n",
        "#Generamos un vector que contenga todos los valores para comparar despues\n",
        "nums=[a,b,c,d,e] \n",
        "\n",
        "#Funcion para generar otro numero que no pertenezca a: a,b,c,d,e\n",
        "def genera_otronum(numeros):\n",
        "  otronum=rnd.randint(1,9)\n",
        "  if np.isin(otronum,numeros)==True: #Si el num ya esta entonces\n",
        "    #print(otronum,\"ya esta en la lista\")\n",
        "    return(genera_otronum(numeros)) #Aqui se hace recursiva\n",
        "  else:\n",
        "    return(otronum)\n",
        "\n",
        "otronum=genera_otronum(nums)\n",
        "\n",
        "print(\"Las cifras originales son:\", numsori)\n",
        "print(\"El otro numero generado y diferente es:\", otronum)\n",
        "print(\"El contenido de nums es: \",nums)"
      ],
      "execution_count": 33,
      "outputs": [
        {
          "output_type": "stream",
          "text": [
            "Las cifras originales son: [9, 6, 3, 1, 2]\n",
            "El otro numero generado y diferente es: 5\n",
            "El contenido de nums es:  [9, 6, 3, 1, 2]\n"
          ],
          "name": "stdout"
        }
      ]
    },
    {
      "metadata": {
        "id": "rg82m-tlQE6X",
        "colab_type": "code",
        "colab": {}
      },
      "cell_type": "code",
      "source": [
        "#Necesitamos una funcion para intercambiar cifras en la suma\n",
        "def intercambia_suma(otronum,nums):\n",
        "  if nums[0]>nums[1]:\n",
        "    nums[0]=otronum\n",
        "    return(nums)\n",
        "  else:\n",
        "    nums[1]=otronum\n",
        "    return(nums)"
      ],
      "execution_count": 0,
      "outputs": []
    },
    {
      "metadata": {
        "id": "kCAm0y5QHgyY",
        "colab_type": "code",
        "outputId": "439b8342-d6cb-4085-d1b5-e5fc219d1741",
        "colab": {
          "base_uri": "https://localhost:8080/",
          "height": 34
        }
      },
      "cell_type": "code",
      "source": [
        "#Con la función de intercambio definida, la ejecutamos y obtenemos un\n",
        "#nuevo vector/lista nums\n",
        "nums=intercambia_suma(otronum,nums)\n",
        "print(nums)"
      ],
      "execution_count": 35,
      "outputs": [
        {
          "output_type": "stream",
          "text": [
            "[5, 6, 3, 1, 2]\n"
          ],
          "name": "stdout"
        }
      ]
    },
    {
      "metadata": {
        "id": "d7sGuszwQTOF",
        "colab_type": "code",
        "colab": {
          "base_uri": "https://localhost:8080/",
          "height": 84
        },
        "outputId": "3530565a-3e41-4066-b540-7dce882a6cb2"
      },
      "cell_type": "code",
      "source": [
        "#Evaluamos para revisar si ya cumple\n",
        "evaluacion=evaluaexp(nums)\n",
        "\n",
        "print(\"El resultado que queremos es:     \", resdeseado)\n",
        "print(\"La evaluacion de la expresion es: \",evaluacion)"
      ],
      "execution_count": 36,
      "outputs": [
        {
          "output_type": "stream",
          "text": [
            "La expresion queda como sigue:\n",
            "5 + 6 - 3 / 1 * 2\n",
            "El resultado que queremos es:      5\n",
            "La evaluacion de la expresion es:  5.0\n"
          ],
          "name": "stdout"
        }
      ]
    },
    {
      "metadata": {
        "id": "LaasNLUvSlaH",
        "colab_type": "code",
        "colab": {
          "base_uri": "https://localhost:8080/",
          "height": 34
        },
        "outputId": "2168ff10-5c45-4676-cfe1-430ae24b6357"
      },
      "cell_type": "code",
      "source": [
        "### Con este resultado que es 0 sabemos que ya estamos en el resultado deseado\n",
        "revisa(resdeseado,nums)"
      ],
      "execution_count": 38,
      "outputs": [
        {
          "output_type": "execute_result",
          "data": {
            "text/plain": [
              "0"
            ]
          },
          "metadata": {
            "tags": []
          },
          "execution_count": 38
        }
      ]
    },
    {
      "metadata": {
        "id": "pXzbyuEIQ4Sw",
        "colab_type": "text"
      },
      "cell_type": "markdown",
      "source": [
        "## CONCLUSIONES\n",
        "\n",
        "> Con lo anterior queda demostrado que el problema se puede resolver con funciones recursivas, las cuales incluyen distintas asignaciones y comparaciones, por lo que el problema será uno de complejidad polinomial, sin embargo el problema se puede complicar mucho más por lo que harán falta más funciones para poder disminuir no solo la suma sino también el producto de la division y multiplicación y de manera recursiva seguir verificando hasta llegar al resultado deseado, sin embargo por falta de tiempo ya no me fué posible el seguirlas desarrollando.\n",
        "\n",
        "\n",
        "\n",
        "\n",
        "---\n",
        "\n"
      ]
    },
    {
      "metadata": {
        "id": "5YsBykd9RyGe",
        "colab_type": "text"
      },
      "cell_type": "markdown",
      "source": [
        "#### ***Algunas ideas que se me ocurren para seguir ampliando este programa y que deberían ser desarrolladas son las siguientes:***"
      ]
    },
    {
      "metadata": {
        "id": "60GzJVTyNzXZ",
        "colab_type": "code",
        "outputId": "f6b395db-bbc5-4afb-e7ff-d331f529bf15",
        "colab": {
          "base_uri": "https://localhost:8080/",
          "height": 50
        }
      },
      "cell_type": "code",
      "source": [
        "#Necesitamos recordar que cifras hemos usado y guardarlas para comparar\n",
        "#posteriormente\n",
        "\n",
        "cifras_usadas = nums.copy()\n",
        "\n",
        "cifras_usadas.append(otronum) #Añadimos la nueva cifra a las ya usadas\n",
        "  \n",
        "print(nums)\n",
        "print(cifras_usadas)"
      ],
      "execution_count": 42,
      "outputs": [
        {
          "output_type": "stream",
          "text": [
            "[5, 9, 3, 1, 2]\n",
            "[5, 9, 3, 1, 2, 9]\n"
          ],
          "name": "stdout"
        }
      ]
    },
    {
      "metadata": {
        "id": "XGdUPOWWwJY0",
        "colab_type": "code",
        "colab": {}
      },
      "cell_type": "code",
      "source": [
        "# Hay que siempre verificar que el otro numero generado no este ya dentro\n",
        "# de los que tenemos\n",
        "\n",
        "while np.isin(otronum,nums)==True:\n",
        "  genera_otronum"
      ],
      "execution_count": 0,
      "outputs": []
    },
    {
      "metadata": {
        "id": "DYbHHvjCvuXB",
        "colab_type": "code",
        "outputId": "dda37094-84c6-4a03-e22d-301b6e9d4974",
        "colab": {
          "base_uri": "https://localhost:8080/",
          "height": 50
        }
      },
      "cell_type": "code",
      "source": [
        "print(cifras_usadas)\n",
        "\n",
        "otronum=genera_otronum(nums)\n",
        "\n",
        "print(otronum)\n",
        "\n"
      ],
      "execution_count": 43,
      "outputs": [
        {
          "output_type": "stream",
          "text": [
            "[5, 9, 3, 1, 2, 9]\n",
            "7\n"
          ],
          "name": "stdout"
        }
      ]
    },
    {
      "metadata": {
        "id": "uj0_279EGHEt",
        "colab_type": "code",
        "outputId": "8375d9f1-c7b7-4e89-aa8c-e6286672db11",
        "colab": {
          "base_uri": "https://localhost:8080/",
          "height": 50
        }
      },
      "cell_type": "code",
      "source": [
        "### FUNCION QUE SE DEBERÁ DEFINIR PARA INTERCAMIBAR OPERANDOS DE LA DIVISIÓN\n",
        "\n",
        "#def intercambia_div(otronum,nums):\n",
        "\n",
        "### FUNCIÓN QUE SE DEBERÁ DEFINIR PARA INTERCAMBIAR OPERANDOS DE LA MULTIPLICACIÓN\n",
        "\n",
        "#def intercamiba_mult(otronum,nums):\n",
        "  \n",
        "print(intercambia_suma(otronum,nums))\n",
        "print(nums)\n"
      ],
      "execution_count": 44,
      "outputs": [
        {
          "output_type": "stream",
          "text": [
            "[5, 7, 3, 1, 2]\n",
            "[5, 7, 3, 1, 2]\n"
          ],
          "name": "stdout"
        }
      ]
    },
    {
      "metadata": {
        "id": "TMcShEOlJFSj",
        "colab_type": "code",
        "outputId": "954583a3-5b28-461a-f499-c57f8a9ffa7d",
        "colab": {
          "base_uri": "https://localhost:8080/",
          "height": 34
        }
      },
      "cell_type": "code",
      "source": [
        "revisa(resdeseado,nums)\n",
        "otronum=genera_otronum(nums)\n",
        "otronum"
      ],
      "execution_count": 45,
      "outputs": [
        {
          "output_type": "execute_result",
          "data": {
            "text/plain": [
              "8"
            ]
          },
          "metadata": {
            "tags": []
          },
          "execution_count": 45
        }
      ]
    },
    {
      "metadata": {
        "id": "98j0Aycmca1_",
        "colab_type": "code",
        "outputId": "1e8bb9ef-bf5c-4460-ba2d-149a9d8189d6",
        "colab": {
          "base_uri": "https://localhost:8080/",
          "height": 34
        }
      },
      "cell_type": "code",
      "source": [
        "print(revisa(resdeseado,nums))"
      ],
      "execution_count": 46,
      "outputs": [
        {
          "output_type": "stream",
          "text": [
            "1\n"
          ],
          "name": "stdout"
        }
      ]
    },
    {
      "metadata": {
        "id": "4VMkAuV-xkhR",
        "colab_type": "code",
        "outputId": "b24c1878-531f-426f-c45a-de3529d6aa02",
        "colab": {
          "base_uri": "https://localhost:8080/",
          "height": 34
        }
      },
      "cell_type": "code",
      "source": [
        "#si revisa es -1 estamos abajo, si es 1 arriba y si es cero pues ya\n",
        "#tenemos una solucion (no sabemos si es la unica eso si)\n",
        "\n",
        "#Si estamos arriba del valor deseado, debemos generar para la suma otro \n",
        "#numero que sea menor que los dos sumandos o viceversa.\n",
        "\n",
        "#Si estamos abajo debemos buscar primero incrementar la suma y hay que saber si es posible\n",
        "#si no es posible, se deben cambiar las cifras de la multiplicación y división.\n",
        "\n",
        "#Checamos si no se ha llegado al maximo de la suma\n",
        "\n",
        "def revisa_suma(nums):\n",
        "  if nums[0]+nums[1]==17:\n",
        "    return(True) #Se deben cambiar las cifras de la multiplicacion y/o div.\n",
        "  else:\n",
        "    return(False) \n",
        "\n",
        "listasuma=nums[0:2] #Con esto conocemos las cifras de la suma\n",
        "\n",
        "cifras_suma=nums[0:2] #Aqui guardaremos las cifras ya usadas en suma\n",
        "cifras_otras=nums[2:5] #Lo mismo pero para mult. y div.\n",
        "\n",
        "print(cifras_suma,cifras_otras)\n",
        "\n",
        "rev=revisa(resdeseado,nums)\n",
        "\n",
        "\n",
        "if rev==1:\n",
        "  otronum=genera_otronum(nums)\n",
        "#  if otronum\n",
        "\n",
        "if rev==-1:\n",
        "  otronum=genera_otronum(nums)\n",
        "  if otronum < nums[0]:\n",
        "    nums[0]=otronum\n",
        "  elif otronum < nums[1]:\n",
        "    nums[1]=otronum\n",
        "  #else:\n",
        "#    return()"
      ],
      "execution_count": 47,
      "outputs": [
        {
          "output_type": "stream",
          "text": [
            "[5, 7] [3, 1, 2]\n"
          ],
          "name": "stdout"
        }
      ]
    }
  ]
}