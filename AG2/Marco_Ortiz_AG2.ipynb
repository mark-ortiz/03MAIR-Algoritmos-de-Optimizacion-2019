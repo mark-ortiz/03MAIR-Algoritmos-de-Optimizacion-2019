{
  "nbformat": 4,
  "nbformat_minor": 0,
  "metadata": {
    "colab": {
      "name": "Marco_Ortiz_AG2.ipynb",
      "version": "0.3.2",
      "provenance": [],
      "collapsed_sections": [],
      "include_colab_link": true
    },
    "kernelspec": {
      "name": "python3",
      "display_name": "Python 3"
    }
  },
  "cells": [
    {
      "cell_type": "markdown",
      "metadata": {
        "id": "view-in-github",
        "colab_type": "text"
      },
      "source": [
        "<a href=\"https://colab.research.google.com/github/mark-ortiz/03MAIR-Algoritmos-de-Optimizacion-2019/blob/master/AG2/Marco_Ortiz_AG2.ipynb\" target=\"_parent\"><img src=\"https://colab.research.google.com/assets/colab-badge.svg\" alt=\"Open In Colab\"/></a>"
      ]
    },
    {
      "metadata": {
        "id": "GtYu1GfxoJjm",
        "colab_type": "code",
        "colab": {}
      },
      "cell_type": "code",
      "source": [
        "#Calculo de Tiempos(Isabel Vazques).\n",
        "from time import time\n",
        "def calcular_tiempo(f):\n",
        "   \n",
        "    def wrapper(*args, **kwargs):        \n",
        "        inicio = time()       \n",
        "        resultado = f(*args, **kwargs)       \n",
        "        tiempo = float(time() - inicio)     \n",
        "        print(\"\\r\\n Tiempo de ejecución para algoritmo: \"+\"{0:.25f}\".format(tiempo))\n",
        "        return resultado\n",
        "    \n",
        "    return wrapper"
      ],
      "execution_count": 0,
      "outputs": []
    },
    {
      "metadata": {
        "id": "7GA_by8Wpjn9",
        "colab_type": "text"
      },
      "cell_type": "markdown",
      "source": [
        "## Marco Ortiz - AG2\n",
        "### Actividad Guiada2\n",
        "Url: https://github.com/mark-ortiz/03MAIR-Algoritmos-de-Optimizacion-2019/tree/master/AG2\n"
      ]
    },
    {
      "metadata": {
        "id": "9TQLO1wSdiYI",
        "colab_type": "code",
        "colab": {
          "base_uri": "https://localhost:8080/",
          "height": 56
        },
        "outputId": "1b1d738b-2107-48ce-f45b-baf5591dd205"
      },
      "cell_type": "code",
      "source": [
        "import random\n",
        "import math\n",
        "\n",
        "\n",
        "N=100\n",
        "\n",
        "LISTA_2D = [(random.randrange(1,N*10),random.randrange(1,N*10)) for _ in range(N)]\n",
        "\n",
        "print(LISTA_2D)"
      ],
      "execution_count": 2,
      "outputs": [
        {
          "output_type": "stream",
          "text": [
            "[(118, 141), (956, 286), (962, 6), (111, 588), (862, 374), (68, 496), (462, 616), (900, 442), (812, 832), (409, 350), (521, 342), (890, 497), (340, 990), (13, 455), (474, 328), (629, 319), (171, 844), (228, 712), (672, 800), (747, 952), (815, 709), (425, 566), (148, 145), (5, 156), (416, 588), (377, 147), (680, 175), (960, 122), (396, 831), (177, 539), (813, 248), (794, 539), (759, 820), (938, 415), (479, 892), (845, 85), (344, 978), (41, 824), (736, 385), (644, 52), (300, 518), (741, 863), (75, 53), (934, 574), (771, 644), (682, 984), (338, 281), (129, 910), (580, 822), (71, 95), (333, 981), (528, 579), (802, 372), (156, 641), (45, 293), (421, 476), (466, 398), (460, 160), (304, 797), (554, 662), (117, 275), (476, 778), (652, 53), (915, 365), (539, 368), (290, 689), (70, 513), (447, 656), (973, 103), (564, 140), (984, 473), (31, 600), (940, 284), (143, 960), (159, 742), (289, 140), (916, 879), (511, 672), (811, 635), (34, 282), (691, 633), (409, 618), (805, 589), (379, 757), (912, 678), (579, 135), (934, 246), (929, 647), (362, 70), (330, 204), (289, 637), (520, 147), (803, 929), (664, 918), (815, 366), (85, 892), (593, 861), (785, 285), (186, 193), (789, 96)]\n"
          ],
          "name": "stdout"
        }
      ]
    },
    {
      "metadata": {
        "id": "hP9eUbEpdnNN",
        "colab_type": "code",
        "colab": {
          "base_uri": "https://localhost:8080/",
          "height": 36
        },
        "outputId": "587392e0-f92b-4626-c19a-f692bd198526"
      },
      "cell_type": "code",
      "source": [
        "def distancia(A,B):\n",
        "  if type(A) is int or type(A) is float:\n",
        "    return abs(B-A)\n",
        "  else:\n",
        "    return math.sqrt(sum([ (A[i]-B[i])**2 for i in range(len(A)) ]))\n",
        "\n",
        "#Probamos con algunos valores la función distancia que se acaba de definir\n",
        "distancia((1,3),(2,5))"
      ],
      "execution_count": 3,
      "outputs": [
        {
          "output_type": "execute_result",
          "data": {
            "text/plain": [
              "2.23606797749979"
            ]
          },
          "metadata": {
            "tags": []
          },
          "execution_count": 3
        }
      ]
    },
    {
      "metadata": {
        "id": "dhUf84qcpsXw",
        "colab_type": "code",
        "colab": {
          "base_uri": "https://localhost:8080/",
          "height": 36
        },
        "outputId": "af2942dc-1557-4947-d210-7d60953be9ac"
      },
      "cell_type": "code",
      "source": [
        "#Fuerza Bruta\n",
        "\n",
        "def distancia_fuerza_bruta(L):\n",
        "  mejor_distancia = 100000e10\n",
        "  \n",
        "  A,B = (),()\n",
        "  \n",
        "  for i in range(len(L)):\n",
        "    for j in range(i+1, len(L)):\n",
        "      D = distancia(L[i],L[j])\n",
        "      if D < mejor_distancia:\n",
        "                A,B=L[i],L[j]\n",
        "                mejor_distancia = D\n",
        "  return [A,B]\n",
        "\n",
        "distancia_fuerza_bruta(LISTA_2D)                "
      ],
      "execution_count": 4,
      "outputs": [
        {
          "output_type": "execute_result",
          "data": {
            "text/plain": [
              "[(644, 52), (652, 53)]"
            ]
          },
          "metadata": {
            "tags": []
          },
          "execution_count": 4
        }
      ]
    },
    {
      "metadata": {
        "id": "vAIn4p0If9v4",
        "colab_type": "code",
        "colab": {
          "base_uri": "https://localhost:8080/",
          "height": 73
        },
        "outputId": "3cd8e9d5-cb97-4b8b-9e49-8bc375579138"
      },
      "cell_type": "code",
      "source": [
        "def distancia_divide_y_venceras(L):\n",
        "  #Si hay pocos por Fuerza Bruta\n",
        "  if len(L) <10: \n",
        "    return  distancia_fuerza_bruta(L)\n",
        "    \n",
        "  #Dividir en listas grandes\n",
        "  #pivite =  sum([L[i][0]for i in range(len(L))]) / len(L)\n",
        "    \n",
        "  LISTA_IZQ = sorted(L, key=lambda x: x[0])[:len(L)//2]\n",
        "  LISTA_DER = sorted(L, key=lambda x: x[0])[len(L)//2:]\n",
        "  \n",
        "  PUNTOS_LISTA_IZQ = distancia_divide_y_venceras(LISTA_IZQ)\n",
        "  PUNTOS_LISTA_DER = distancia_divide_y_venceras(LISTA_DER)\n",
        "  \n",
        "  return distancia_fuerza_bruta(PUNTOS_LISTA_IZQ + PUNTOS_LISTA_DER)\n",
        "  \n",
        "@calcular_tiempo  \n",
        "def LANZA(L):\n",
        "  return distancia_divide_y_venceras(L)\n",
        "  \n",
        "SOL = LANZA(LISTA_2D[:1000])\n",
        "\n",
        "print(SOL)"
      ],
      "execution_count": 5,
      "outputs": [
        {
          "output_type": "stream",
          "text": [
            "\r\n",
            " Tiempo de ejecución para algoritmo: 0.0008974075317382812500000\n",
            "[(644, 52), (652, 53)]\n"
          ],
          "name": "stdout"
        }
      ]
    },
    {
      "metadata": {
        "id": "zuxXp5M6gn7m",
        "colab_type": "code",
        "colab": {
          "base_uri": "https://localhost:8080/",
          "height": 149
        },
        "outputId": "14332b51-3aac-47f3-a62f-21305e000495"
      },
      "cell_type": "code",
      "source": [
        "TARIFAS = [\n",
        "[0,5,4,3,999,999,999],\n",
        "[999,0,999,2,3,999,11],\n",
        "[999,999, 0,1,999,4,10],\n",
        "[999,999,999, 0,5,6,9],\n",
        "[999,999, 999,999,0,999,4],\n",
        "[999,999, 999,999,999,0,3],\n",
        "[999,999,999,999,999,999,0]\n",
        "]\n",
        "\n",
        "#Paseo por el rio\n",
        "def Precios(TARIFAS):\n",
        "  N = len(TARIFAS[0])\n",
        "  \n",
        "  PRECIOS = [ [9999]*N for i in [9999]*N ]\n",
        "  RUTAS    = [ [\"\"]*N for i in [9999]*N ]\n",
        "  \n",
        "\n",
        "  \n",
        "  for i in range(N-1):\n",
        "    for j in range(i+1,N):\n",
        "      MIN = TARIFAS[i][j]\n",
        "      RUTAS[i][j] = i\n",
        "      \n",
        "      for k in range(i,j):\n",
        "        if PRECIOS[i][k]+ TARIFAS[k][j] < MIN:\n",
        "          MIN = min( MIN , PRECIOS[i][k]+ TARIFAS[k][j] )\n",
        "          RUTAS[i][j] = k\n",
        "      PRECIOS[i][j] = MIN\n",
        "      \n",
        "  return PRECIOS, RUTAS\n",
        "\n",
        "  \n",
        "PRECIOS, RUTAS = Precios(TARIFAS)\n",
        "\n",
        "print(PRECIOS)\n",
        "\n",
        "print()\n",
        "\n",
        "print(RUTAS)\n",
        "\n",
        "def calcular_ruta(RUTAS, desde, hasta):\n",
        "  if desde == hasta:\n",
        "    #print(\"Ir a :\" + str(desde))\n",
        "    return desde \n",
        "  else:\n",
        "    return str(calcular_ruta(RUTAS, desde, RUTAS[desde][hasta])) +  ',' + str(RUTAS[desde][hasta]) \n",
        "\n",
        "print(\"\\nLa ruta es:\")  \n",
        "calcular_ruta(RUTAS, 0,6)"
      ],
      "execution_count": 6,
      "outputs": [
        {
          "output_type": "stream",
          "text": [
            "[[9999, 5, 4, 3, 8, 8, 11], [9999, 9999, 999, 2, 3, 8, 7], [9999, 9999, 9999, 1, 6, 4, 7], [9999, 9999, 9999, 9999, 5, 6, 9], [9999, 9999, 9999, 9999, 9999, 999, 4], [9999, 9999, 9999, 9999, 9999, 9999, 3], [9999, 9999, 9999, 9999, 9999, 9999, 9999]]\n",
            "\n",
            "[['', 0, 0, 0, 1, 2, 5], ['', '', 1, 1, 1, 3, 4], ['', '', '', 2, 3, 2, 5], ['', '', '', '', 3, 3, 3], ['', '', '', '', '', 4, 4], ['', '', '', '', '', '', 5], ['', '', '', '', '', '', '']]\n",
            "\n",
            "La ruta es:\n"
          ],
          "name": "stdout"
        },
        {
          "output_type": "execute_result",
          "data": {
            "text/plain": [
              "'0,0,2,5'"
            ]
          },
          "metadata": {
            "tags": []
          },
          "execution_count": 6
        }
      ]
    },
    {
      "metadata": {
        "id": "11YGf870hLNG",
        "colab_type": "text"
      },
      "cell_type": "markdown",
      "source": [
        "#APORTACIÓN EXTRA\n",
        "A partir de aquí mi aportación para el problema de distancia usando divide y venceras, investigando en Internet encontré este código que me pareció muy bueno y lo adapte un poco, en general lo que hace el código es tomar la misma idea que se presentó en clase de divide y vencerás, pero retocada un poco para tratar de mejorar. <br>\n",
        "\n",
        "Uno de mis aportes es el haber incluido en el return la distancia y los puntos que son la solución, así como sobre todo hacer la gráfica para visualizar los puntos y observar aquellos que encontró el algoritmos que son los que están más cerca y cuya distancia es mínima.<br>\n",
        "\n",
        "Al final compararemos usando la función de calculo de tiempos aportada por Isabel Vazques.\n",
        "\n"
      ]
    },
    {
      "metadata": {
        "id": "xT9CghFohKav",
        "colab_type": "code",
        "colab": {}
      },
      "cell_type": "code",
      "source": [
        "import math\n",
        "import random as rn\n",
        "import matplotlib.pyplot as plt\n",
        "\n",
        "#Esta funcion calcula la distancia básica\n",
        "def dist(p1,p2):\n",
        "  return math.sqrt((p1[0]-p2[0])**2+(p1[1]-p2[1])**2)\n",
        "\n",
        "#Esta es la función que manda a llamar a las otras y otorga la solución\n",
        "def solution(x,y):\n",
        "  a = list(zip(x,y)) #Produce la lista de tuplas osea la LISTA2D\n",
        "  ax = sorted(a, key=lambda x: x[0]) #Ordena con base a X\n",
        "  ay = sorted(a, key=lambda x: x[1]) #Ordena con base a Y\n",
        "  p1,p2,mi = closest_pair(ax,ay) #Funcion recursiva\n",
        "  return mi,p1,p2\n",
        "\n",
        "#Función recursiva para encontrar el par más cercano\n",
        "def closest_pair(ax,ay):\n",
        "  ln_ax=len(ax) # Es mas rapido asignar a una variable la long de ax\n",
        "  if ln_ax <= 3: #Solo se llama a fuerza bruta para 3 ó menos elementos\n",
        "    return brute(ax) #LLamada a fuerza bruta\n",
        "  mid = ln_ax //2 #Division sin residuo para obtener la mitad\n",
        "  Qx=ax[:mid] #Split (Se divide) en dos partes\n",
        "  Rx=ax[mid:]\n",
        "  #Determinamos el punto medio del eje X\n",
        "  midpoint=ax[mid][0]\n",
        "  Qy=list()\n",
        "  Ry=list()\n",
        "  for x in ay: #Dividimos ay en 2 arreglos usando el punto medio\n",
        "    if x[0] <= midpoint:\n",
        "      Qy.append(x)\n",
        "    else:\n",
        "      Ry.append(x)\n",
        "  #Llamada recursiva a ambos arreglos despues del split\n",
        "  (p1,q1,mi1) = closest_pair(Qx, Qy)\n",
        "  (p2,q2,mi2) = closest_pair(Rx, Ry)\n",
        "  #Determinar la distancia mas pequeña entre los puntos de los 2 arreglos\n",
        "  if mi1<=mi2:\n",
        "    d=mi1\n",
        "    mn=(p1,q1)\n",
        "  else:\n",
        "    d=mi2\n",
        "    mn=(p2,q2)\n",
        "  #LLamamos a la función para contar los puntos del borde\n",
        "  (p3,q3,mi3) = closest_split_pair(ax,ay,d,mn)\n",
        "  #Determinar la distancia mas pequeña para el arreglo\n",
        "  if d <= mi3:\n",
        "    return mn[0], mn[1], d\n",
        "  else:\n",
        "    return p3, q3, mi3\n",
        "\n",
        "#Función de fuerza bruta que solo calcula para una longitud de 3 y no más\n",
        "def brute(ax):\n",
        "  mi=dist(ax[0],ax[1])\n",
        "  p1=ax[0]\n",
        "  p2=ax[1]\n",
        "  ln_ax=len(ax)\n",
        "  if ln_ax==2:\n",
        "    return p1,p2,mi\n",
        "  for i in range(ln_ax-1):\n",
        "    for j in range(i+1,ln_ax):\n",
        "      if i != 0 and j!=1:\n",
        "        d=dist(ax[i], ax[j])\n",
        "        if d<mi: #Actualizar la dist min y los puntos\n",
        "          mi=d\n",
        "          p1,p2=ax[i],ax[j]\n",
        "  return p1,p2,mi\n",
        "\n",
        "\n",
        "def closest_split_pair(p_x, p_y, delta, best_pair):\n",
        "  ln_x=len(p_x) # Almacenamos la longitud - es mas rapido\n",
        "  mx_x=p_x[ln_x//2][0] #Seleccionamos el punto medio del arr. x ordenado\n",
        "  #Creamos un subarr de puntos no mas alla del delta del punto medio\n",
        "  #en el arreglo ordenado x  \n",
        "  s_y=[x for x in p_y if mx_x - delta <= x[0] <= mx_x + delta]\n",
        "  best=delta #Asingar el mejor valor a delta\n",
        "  ln_y=len(s_y) #Almacenar la long de l subarr para rapidez\n",
        "  for i in range(ln_y-1):\n",
        "    for j in range(i+1,min(i+7,ln_y)):\n",
        "      p,q = s_y[i], s_y[j]\n",
        "      dst=dist(p,q)\n",
        "      if dst < best:\n",
        "        best_pair=p,q\n",
        "        best=dst\n",
        "  return best_pair[0],best_pair[1],best"
      ],
      "execution_count": 0,
      "outputs": []
    },
    {
      "metadata": {
        "id": "zoKPE2WPjQuu",
        "colab_type": "code",
        "colab": {
          "base_uri": "https://localhost:8080/",
          "height": 407
        },
        "outputId": "ca94c460-4874-409c-d3dc-32734a395074"
      },
      "cell_type": "code",
      "source": [
        "##### PRUEBA DEL CODIGO ARRIBA EXTRA #####\n",
        "\n",
        "#Establezco la semilla solo para que salgan los mismos valores y verificar\n",
        "rn.seed(5)\n",
        "\n",
        "#Genero dos listas cualquiera de 10 valores que seran las coordenadas X e Y\n",
        "#Aqui se puede modificar N para cualquier valor pero use 100 para mejor\n",
        "#visibilidad en la gráfica\n",
        "N=100\n",
        "X=[rn.randrange(1,10000) for x in range(N)]\n",
        "Y=[rn.randrange(1,10000) for x in range(N)]\n",
        "\n",
        "#Ejecuto la función para solución\n",
        "d,p1,p2=solution(X,Y)\n",
        "print (\"La distancia mínima es = %.2f\" %d)\n",
        "print (\"El Punto 1 es:\", p1);print (\"El Punto 2 es:\", p2)\n",
        "\n",
        "###################################\n",
        "### Graficamos todos los puntos ###\n",
        "###################################\n",
        "plt.plot(X,Y,'b.')\n",
        "#En rojo ponemos los puntos que encontramos con distancia mínima\n",
        "plt.plot(p1[0],p1[1],'r.')\n",
        "plt.plot(p2[0],p2[1],'r.')\n",
        "#Hacemos que los ejes vayan de 0 a 10000\n",
        "plt.axis([0,10000,0,10000])\n",
        "plt.show()"
      ],
      "execution_count": 8,
      "outputs": [
        {
          "output_type": "stream",
          "text": [
            "La distancia mínima es = 102.12\n",
            "El Punto 1 es: (9663, 4485)\n",
            "El Punto 2 es: (9765, 4490)\n"
          ],
          "name": "stdout"
        },
        {
          "output_type": "display_data",
          "data": {
            "image/png": "[encoded data removed]",
            "text/plain": [
              "<Figure size 576x396 with 1 Axes>"
            ]
          },
          "metadata": {
            "tags": []
          }
        }
      ]
    }
  ]
}